{
 "cells": [
  {
   "cell_type": "code",
   "execution_count": null,
   "id": "989baae0-c6ca-4410-90d1-136e2521b7de",
   "metadata": {},
   "outputs": [],
   "source": [
    "import numpy as n\n"
   ]
  },
  {
   "cell_type": "code",
   "execution_count": 8,
   "id": "cc288089-fbdd-46d6-9ef0-222d8c745bd1",
   "metadata": {},
   "outputs": [
    {
     "name": "stdin",
     "output_type": "stream",
     "text": [
      "masukan angka 3\n",
      "masukan angka 5\n"
     ]
    }
   ],
   "source": [
    "radius = int(input(\"masukan angka\"))\n",
    "tinggi = int(input( \"masukan angka\"))\n",
    "phi = 3.14"
   ]
  },
  {
   "cell_type": "code",
   "execution_count": 9,
   "id": "673c70d2-0855-4355-b5b7-6d41c28d202f",
   "metadata": {},
   "outputs": [
    {
     "name": "stdout",
     "output_type": "stream",
     "text": [
      "42.39\n"
     ]
    }
   ],
   "source": [
    "hasil = 0.3*phi*(radius**2)*tinggi\n",
    "print(hasil)"
   ]
  },
  {
   "cell_type": "code",
   "execution_count": 17,
   "id": "1ea6f629-0a67-40af-a202-8e046f673555",
   "metadata": {},
   "outputs": [
    {
     "name": "stdin",
     "output_type": "stream",
     "text": [
      "masukan 60\n"
     ]
    },
    {
     "name": "stdout",
     "output_type": "stream",
     "text": [
      "lansia\n"
     ]
    }
   ],
   "source": [
    "x= int(input(\"masukan\"))\n",
    "\n",
    "if x<=5 :\n",
    "    print(\"balita\")\n",
    "elif x <=12 :\n",
    "    print(\"anak-anak\")\n",
    "elif  x <=17 :\n",
    "    print(\"Remaja\")\n",
    "elif x <=59 :\n",
    "    print(\"Dewasa\")\n",
    "elif x > 59 :\n",
    "    print(\"lansia\")\n",
    "    "
   ]
  },
  {
   "cell_type": "code",
   "execution_count": null,
   "id": "c14ab30f-234c-4df1-b6ff-71f3dd04af7f",
   "metadata": {},
   "outputs": [],
   "source": [
    "13\n"
   ]
  }
 ],
 "metadata": {
  "kernelspec": {
   "display_name": "Python 3 (ipykernel)",
   "language": "python",
   "name": "python3"
  },
  "language_info": {
   "codemirror_mode": {
    "name": "ipython",
    "version": 3
   },
   "file_extension": ".py",
   "mimetype": "text/x-python",
   "name": "python",
   "nbconvert_exporter": "python",
   "pygments_lexer": "ipython3",
   "version": "3.10.7"
  }
 },
 "nbformat": 4,
 "nbformat_minor": 5
}
