{
 "cells": [
  {
   "cell_type": "code",
   "execution_count": 16,
   "id": "4724bbc2-7485-4e09-8597-cc62ee4f5c8b",
   "metadata": {},
   "outputs": [],
   "source": [
    "import pandas as pd\n",
    "\n",
    "data = pd.read_csv(\"pratikum1Data.csv\")\n",
    "import pandas as pd\n",
    "\n"
   ]
  },
  {
   "cell_type": "code",
   "execution_count": 20,
   "id": "4139d391-5c50-4d1c-8a7c-b6881c387150",
   "metadata": {},
   "outputs": [
    {
     "name": "stdout",
     "output_type": "stream",
     "text": [
      "<class 'pandas.core.frame.DataFrame'>\n",
      "RangeIndex: 99 entries, 0 to 98\n",
      "Data columns (total 21 columns):\n",
      " #   Column            Non-Null Count  Dtype  \n",
      "---  ------            --------------  -----  \n",
      " 0   customerID        99 non-null     object \n",
      " 1   gender            99 non-null     object \n",
      " 2   SeniorCitizen     99 non-null     int64  \n",
      " 3   Partner           99 non-null     object \n",
      " 4   Dependents        98 non-null     object \n",
      " 5   tenure            98 non-null     float64\n",
      " 6   PhoneService      99 non-null     object \n",
      " 7   MultipleLines     98 non-null     object \n",
      " 8   InternetService   99 non-null     object \n",
      " 9   OnlineSecurity    99 non-null     object \n",
      " 10  OnlineBackup      99 non-null     object \n",
      " 11  DeviceProtection  98 non-null     object \n",
      " 12  TechSupport       99 non-null     object \n",
      " 13  StreamingTV       99 non-null     object \n",
      " 14  StreamingMovies   99 non-null     object \n",
      " 15  Contract          99 non-null     object \n",
      " 16  PaperlessBilling  99 non-null     object \n",
      " 17  PaymentMethod     99 non-null     object \n",
      " 18  MonthlyCharges    99 non-null     float64\n",
      " 19  TotalCharges      99 non-null     float64\n",
      " 20  Churn             99 non-null     object \n",
      "dtypes: float64(3), int64(1), object(17)\n",
      "memory usage: 16.4+ KB\n"
     ]
    }
   ],
   "source": [
    "data.info()"
   ]
  },
  {
   "cell_type": "code",
   "execution_count": 25,
   "id": "37d64abb-79e6-4264-8eba-61dfeac8e00a",
   "metadata": {},
   "outputs": [
    {
     "data": {
      "text/plain": [
       "customerID          0\n",
       "gender              0\n",
       "SeniorCitizen       0\n",
       "Partner             0\n",
       "Dependents          1\n",
       "tenure              1\n",
       "PhoneService        0\n",
       "MultipleLines       1\n",
       "InternetService     0\n",
       "OnlineSecurity      0\n",
       "OnlineBackup        0\n",
       "DeviceProtection    1\n",
       "TechSupport         0\n",
       "StreamingTV         0\n",
       "StreamingMovies     0\n",
       "Contract            0\n",
       "PaperlessBilling    0\n",
       "PaymentMethod       0\n",
       "MonthlyCharges      0\n",
       "TotalCharges        0\n",
       "Churn               0\n",
       "dtype: int64"
      ]
     },
     "execution_count": 25,
     "metadata": {},
     "output_type": "execute_result"
    }
   ],
   "source": [
    "data.isnull().sum()"
   ]
  },
  {
   "cell_type": "code",
   "execution_count": 27,
   "id": "071b9edc-321b-45b7-8719-09febe02196b",
   "metadata": {},
   "outputs": [
    {
     "data": {
      "text/plain": [
       "{'Dependents': 'No',\n",
       " 'tenure': 1.0,\n",
       " 'MultipleLines': 'No',\n",
       " 'DeviceProtection': 'No'}"
      ]
     },
     "execution_count": 27,
     "metadata": {},
     "output_type": "execute_result"
    }
   ],
   "source": [
    "modus_dependents = data['Dependents'].mode()[0]\n",
    "modus_tenure = data['tenure'].mode()[0]\n",
    "modus_multipleLines = data['MultipleLines'].mode()[0]\n",
    "modus_deviceProtection = data['DeviceProtection'].mode()[0]\n",
    "\n",
    "modus_values = {\n",
    "    'Dependents': modus_dependents,\n",
    "    'tenure': modus_tenure,\n",
    "    'MultipleLines': modus_multipleLines,\n",
    "    'DeviceProtection': modus_deviceProtection\n",
    "}\n",
    "\n",
    "modus_values"
   ]
  },
  {
   "cell_type": "code",
   "execution_count": 31,
   "id": "7d6c6f2c-2fa2-4aa9-b2d8-d5e36bec93f0",
   "metadata": {},
   "outputs": [
    {
     "data": {
      "text/plain": [
       "customerID          0\n",
       "gender              0\n",
       "SeniorCitizen       0\n",
       "Partner             0\n",
       "Dependents          0\n",
       "tenure              0\n",
       "PhoneService        0\n",
       "MultipleLines       0\n",
       "InternetService     0\n",
       "OnlineSecurity      0\n",
       "OnlineBackup        0\n",
       "DeviceProtection    0\n",
       "TechSupport         0\n",
       "StreamingTV         0\n",
       "StreamingMovies     0\n",
       "Contract            0\n",
       "PaperlessBilling    0\n",
       "PaymentMethod       0\n",
       "MonthlyCharges      0\n",
       "TotalCharges        0\n",
       "Churn               0\n",
       "dtype: int64"
      ]
     },
     "execution_count": 31,
     "metadata": {},
     "output_type": "execute_result"
    }
   ],
   "source": [
    "data.fillna(modus_values, inplace=True)\n",
    "\n",
    "missing_values_after_correction = data.isnull().sum()\n",
    "\n",
    "missing_values_after_correction\n"
   ]
  },
  {
   "cell_type": "code",
   "execution_count": 32,
   "id": "c0c3e58f-47cc-48aa-bae5-7d7d65ea5dfd",
   "metadata": {},
   "outputs": [
    {
     "name": "stdout",
     "output_type": "stream",
     "text": [
      "<class 'pandas.core.frame.DataFrame'>\n",
      "RangeIndex: 99 entries, 0 to 98\n",
      "Data columns (total 20 columns):\n",
      " #   Column            Non-Null Count  Dtype  \n",
      "---  ------            --------------  -----  \n",
      " 0   gender            99 non-null     object \n",
      " 1   SeniorCitizen     99 non-null     int64  \n",
      " 2   Partner           99 non-null     object \n",
      " 3   Dependents        99 non-null     object \n",
      " 4   tenure            99 non-null     float64\n",
      " 5   PhoneService      99 non-null     object \n",
      " 6   MultipleLines     99 non-null     object \n",
      " 7   InternetService   99 non-null     object \n",
      " 8   OnlineSecurity    99 non-null     object \n",
      " 9   OnlineBackup      99 non-null     object \n",
      " 10  DeviceProtection  99 non-null     object \n",
      " 11  TechSupport       99 non-null     object \n",
      " 12  StreamingTV       99 non-null     object \n",
      " 13  StreamingMovies   99 non-null     object \n",
      " 14  Contract          99 non-null     object \n",
      " 15  PaperlessBilling  99 non-null     object \n",
      " 16  PaymentMethod     99 non-null     object \n",
      " 17  MonthlyCharges    99 non-null     float64\n",
      " 18  TotalCharges      99 non-null     float64\n",
      " 19  Churn             99 non-null     object \n",
      "dtypes: float64(3), int64(1), object(16)\n",
      "memory usage: 15.6+ KB\n"
     ]
    }
   ],
   "source": [
    "data = data.drop('customerID', axis=1)\n",
    "data.info()\n"
   ]
  },
  {
   "cell_type": "code",
   "execution_count": null,
   "id": "d9ac14cf-9a5c-4652-8864-9695ff007c7e",
   "metadata": {},
   "outputs": [],
   "source": []
  }
 ],
 "metadata": {
  "kernelspec": {
   "display_name": "Python 3 (ipykernel)",
   "language": "python",
   "name": "python3"
  },
  "language_info": {
   "codemirror_mode": {
    "name": "ipython",
    "version": 3
   },
   "file_extension": ".py",
   "mimetype": "text/x-python",
   "name": "python",
   "nbconvert_exporter": "python",
   "pygments_lexer": "ipython3",
   "version": "3.10.7"
  }
 },
 "nbformat": 4,
 "nbformat_minor": 5
}
